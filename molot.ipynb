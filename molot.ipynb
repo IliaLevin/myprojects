{
 "cells": [
  {
   "cell_type": "code",
   "execution_count": 76,
   "metadata": {},
   "outputs": [],
   "source": [
    "#import libraries that may be needed in the course of the work\n",
    "import pandas as pd\n",
    "import numpy as np\n",
    "import math\n",
    "import datetime as datetime\n",
    "import seaborn as sns\n",
    "import matplotlib.pyplot as plt\n",
    "import scipy\n",
    "import calendar\n",
    "from datetime import timedelta\n",
    "\n",
    "%matplotlib inline"
   ]
  },
  {
   "cell_type": "code",
   "execution_count": 4,
   "metadata": {},
   "outputs": [],
   "source": [
    "#A young Russian publisher established in 2017 by the true fans of their craft. \n",
    "#In five years, we've popularized Russian comics and attracted new readers into the industry. \n",
    "#It was achieved because of the product's high quality, different approach towards working with stories and characters, \n",
    "#as well as attracting the audience of media people (bloggers and different musicians) to MOLOT HARDCORP comics.\n",
    "\n",
    "#MOLOT HARDCORP has a website where is selling their own products B2C. \n",
    "#There is a small and simple CRM that gather some neccessary info for delivery. The output from the CRM is a csv.file. \n",
    "# Let's look at this info and decide what we can do with it.\n"
   ]
  },
  {
   "cell_type": "code",
   "execution_count": 5,
   "metadata": {},
   "outputs": [],
   "source": [
    "#open csv.file from CRM\n",
    "customers = pd.read_csv('/mnt/HC_Volume_18315164/home-jupyter/jupyter-i-levin/molot_hardcorp/purchases_of_molot_2.csv', sep=';', error_bad_lines=False)"
   ]
  },
  {
   "cell_type": "code",
   "execution_count": 6,
   "metadata": {},
   "outputs": [
    {
     "data": {
      "text/plain": [
       "Index(['Email', 'Name', 'Phone', 'Date', 'Адрес_доставки', 'Регион_доставки',\n",
       "       'Checkbox', 'Checkbox_2', 'Индекс_доставки', 'Статус оплаты',\n",
       "       'Название формы', 'Номер заказа', 'Комментарий_к_заказу',\n",
       "       'comment_form', 'Трек-код', 'delivery', 'Delivery_adress',\n",
       "       'Сумма заказа', 'Промокод', 'externalid', 'task', 'data_processing',\n",
       "       'adv', 'ages', 'Region', 'Promocode', 'street', 'city', 'Country',\n",
       "       'tranid', 'formid', 'formname', 'paymentsystem', 'utm_content',\n",
       "       'Status ID', 'Stage'],\n",
       "      dtype='object')"
      ]
     },
     "execution_count": 6,
     "metadata": {},
     "output_type": "execute_result"
    }
   ],
   "source": [
    "#look at all columns\n",
    "customers.columns"
   ]
  },
  {
   "cell_type": "code",
   "execution_count": 7,
   "metadata": {},
   "outputs": [
    {
     "data": {
      "text/plain": [
       "Index(['email', 'name', 'phone', 'date', 'адрес_доставки', 'регион_доставки',\n",
       "       'checkbox', 'checkbox_2', 'индекс_доставки', 'статус оплаты',\n",
       "       'название формы', 'номер заказа', 'комментарий_к_заказу',\n",
       "       'comment_form', 'трек-код', 'delivery', 'delivery_adress',\n",
       "       'сумма заказа', 'промокод', 'externalid', 'task', 'data_processing',\n",
       "       'adv', 'ages', 'region', 'promocode', 'street', 'city', 'country',\n",
       "       'tranid', 'formid', 'formname', 'paymentsystem', 'utm_content',\n",
       "       'status id', 'stage'],\n",
       "      dtype='object')"
      ]
     },
     "execution_count": 7,
     "metadata": {},
     "output_type": "execute_result"
    }
   ],
   "source": [
    "#convert the column names to the appropriate format\n",
    "customers.columns = customers.columns.str.lower()\n",
    "customers.columns"
   ]
  },
  {
   "cell_type": "code",
   "execution_count": 8,
   "metadata": {},
   "outputs": [],
   "source": [
    "customers = customers.rename(columns={'адрес_доставки' : 'adress_rus',\n",
    "                                     'регион_доставки' : 'region_del_rus',\n",
    "                                      'трек-код' : 'track_number',\n",
    "                                     'checkbox' : 'personal_info',\n",
    "                                     'checkbox_2' : 'ads_agreement',\n",
    "                                     'индекс_доставки': 'postcode',\n",
    "                                     'статус оплаты' : 'payment_status',\n",
    "                                     'название формы' : 'name_of_form',\n",
    "                                     'номер заказа' : 'order_id',\n",
    "                                     'комментарий_к_заказу' : 'comments',\n",
    "                                     'сумма заказа' : 'sum_of_money',\n",
    "                                     'промокод' : 'promocode_rus',\n",
    "                                     'status id' : 'status_id',\n",
    "                                     'street' : 'street_abroad',\n",
    "                                     'city' : 'city_abroad',\n",
    "                                     'country' : 'country_abroad'})"
   ]
  },
  {
   "cell_type": "code",
   "execution_count": 9,
   "metadata": {},
   "outputs": [],
   "source": [
    "#There are some duplicate columns: street_abroad, city_abroad are forms at the english version of website\n",
    "#At the same time adress_rus is the same form at the russian version\n",
    "#Or checkbox(personal_info) and data_processing are the same functions, but in different versions of website \n",
    "#That's why we need to unite the same parametrs to the one column"
   ]
  },
  {
   "cell_type": "code",
   "execution_count": 10,
   "metadata": {},
   "outputs": [],
   "source": [
    "customers.personal_info.replace(('yes', 'NaN'), (1, 0), inplace=True)\n",
    "customers.personal_info = customers.personal_info.fillna(0)"
   ]
  },
  {
   "cell_type": "code",
   "execution_count": 11,
   "metadata": {},
   "outputs": [],
   "source": [
    "customers.data_processing.replace(('yes', 'NaN'), (1, 0), inplace=True)\n",
    "customers.data_processing = customers.data_processing.fillna(0)"
   ]
  },
  {
   "cell_type": "code",
   "execution_count": 12,
   "metadata": {},
   "outputs": [],
   "source": [
    "customers['data_processing_new'] = customers.personal_info + customers.data_processing"
   ]
  },
  {
   "cell_type": "code",
   "execution_count": 13,
   "metadata": {},
   "outputs": [],
   "source": [
    "customers = customers.drop(columns = ['data_processing', 'personal_info'], axis = 1) "
   ]
  },
  {
   "cell_type": "code",
   "execution_count": 14,
   "metadata": {},
   "outputs": [],
   "source": [
    "customers.ads_agreement.replace(('yes', 'NaN'), (1, 0), inplace=True)\n",
    "customers.ads_agreement = customers.ads_agreement.fillna(0)\n",
    "customers.adv.replace(('yes', 'NaN'), (1, 0), inplace=True)\n",
    "customers.adv = customers.adv.fillna(0)"
   ]
  },
  {
   "cell_type": "code",
   "execution_count": 15,
   "metadata": {},
   "outputs": [],
   "source": [
    "customers['ads_new'] = customers.adv + customers.ads_agreement\n",
    "customers = customers.drop(columns = ['adv', 'ads_agreement'], axis = 1) \n",
    "customers = customers.rename(columns={'ads_new' : 'ads_agreement',\n",
    "                         'data_processing_new' : 'data_processing'})"
   ]
  },
  {
   "cell_type": "code",
   "execution_count": 16,
   "metadata": {},
   "outputs": [
    {
     "data": {
      "text/plain": [
       "Index(['email', 'name', 'phone', 'date', 'adress_rus', 'region_del_rus',\n",
       "       'postcode', 'payment_status', 'name_of_form', 'order_id', 'comments',\n",
       "       'comment_form', 'track_number', 'delivery', 'delivery_adress',\n",
       "       'sum_of_money', 'promocode_rus', 'externalid', 'task', 'ages', 'region',\n",
       "       'promocode', 'street_abroad', 'city_abroad', 'country_abroad', 'tranid',\n",
       "       'formid', 'formname', 'paymentsystem', 'utm_content', 'status_id',\n",
       "       'stage', 'data_processing', 'ads_agreement'],\n",
       "      dtype='object')"
      ]
     },
     "execution_count": 16,
     "metadata": {},
     "output_type": "execute_result"
    }
   ],
   "source": [
    "customers.columns"
   ]
  },
  {
   "cell_type": "code",
   "execution_count": 17,
   "metadata": {},
   "outputs": [
    {
     "data": {
      "text/plain": [
       "0       0\n",
       "1       0\n",
       "2       0\n",
       "3       0\n",
       "4       0\n",
       "       ..\n",
       "1626    0\n",
       "1627    0\n",
       "1628    0\n",
       "1629    0\n",
       "1630    0\n",
       "Name: country_abroad, Length: 1631, dtype: object"
      ]
     },
     "execution_count": 17,
     "metadata": {},
     "output_type": "execute_result"
    }
   ],
   "source": [
    "customers.country_abroad.fillna(0)"
   ]
  },
  {
   "cell_type": "code",
   "execution_count": 18,
   "metadata": {},
   "outputs": [
    {
     "data": {
      "text/plain": [
       "0       0\n",
       "1       0\n",
       "2       0\n",
       "3       0\n",
       "4       0\n",
       "       ..\n",
       "1626    0\n",
       "1627    0\n",
       "1628    0\n",
       "1629    0\n",
       "1630    0\n",
       "Name: city_abroad, Length: 1631, dtype: object"
      ]
     },
     "execution_count": 18,
     "metadata": {},
     "output_type": "execute_result"
    }
   ],
   "source": [
    "customers.city_abroad.fillna(0)"
   ]
  },
  {
   "cell_type": "code",
   "execution_count": 19,
   "metadata": {},
   "outputs": [
    {
     "data": {
      "text/plain": [
       "0       0\n",
       "1       0\n",
       "2       0\n",
       "3       0\n",
       "4       0\n",
       "       ..\n",
       "1626    0\n",
       "1627    0\n",
       "1628    0\n",
       "1629    0\n",
       "1630    0\n",
       "Name: street_abroad, Length: 1631, dtype: object"
      ]
     },
     "execution_count": 19,
     "metadata": {},
     "output_type": "execute_result"
    }
   ],
   "source": [
    "customers.street_abroad.fillna(0)"
   ]
  },
  {
   "cell_type": "code",
   "execution_count": 20,
   "metadata": {},
   "outputs": [],
   "source": [
    "customers['adress_abroad'] = customers.country_abroad + ', ' + customers.city_abroad + ', ' + customers.street_abroad"
   ]
  },
  {
   "cell_type": "code",
   "execution_count": 21,
   "metadata": {},
   "outputs": [],
   "source": [
    "customers.adress_rus = customers.adress_rus.fillna(customers['adress_abroad'])"
   ]
  },
  {
   "cell_type": "code",
   "execution_count": 22,
   "metadata": {},
   "outputs": [],
   "source": [
    "customers = customers.drop(columns = ['adress_abroad', 'city_abroad', 'street_abroad'], axis = 1) "
   ]
  },
  {
   "cell_type": "code",
   "execution_count": 23,
   "metadata": {},
   "outputs": [],
   "source": [
    "customers = customers.rename(columns={'adress_rus' : 'adress',\n",
    "                         'country_abroad' : 'country'})"
   ]
  },
  {
   "cell_type": "code",
   "execution_count": 24,
   "metadata": {},
   "outputs": [],
   "source": [
    "customers.country = customers.country.fillna('Russia')"
   ]
  },
  {
   "cell_type": "code",
   "execution_count": 25,
   "metadata": {},
   "outputs": [],
   "source": [
    "customers.order_id = customers.order_id.fillna(0)"
   ]
  },
  {
   "cell_type": "code",
   "execution_count": 26,
   "metadata": {},
   "outputs": [],
   "source": [
    "customers.delivery_adress = customers.delivery_adress.replace(\"Россия, \", \"\", regex=True)"
   ]
  },
  {
   "cell_type": "code",
   "execution_count": 27,
   "metadata": {},
   "outputs": [
    {
     "data": {
      "text/plain": [
       "Астраханская область, г. Астрахань, Приволжский район, село три протока, ул советская, д 1    1\n",
       "Московская область, г. Мытищи, ул. Комарова д.2 к.1 кв.166 почтовый индекс 141002             1\n",
       "Оренбургская область, город Новотроицк, ул. Марии Корецкой дом 20, квартира 49                1\n",
       "Свердловская область, город Сысерть, микрорайон \"новый\", дом 34, квартира 56                  1\n",
       "Пермь, ул. Революции 21а, кв. 74, 614007                                                      1\n",
       "Name: delivery_adress, dtype: int64"
      ]
     },
     "execution_count": 27,
     "metadata": {},
     "output_type": "execute_result"
    }
   ],
   "source": [
    "customers.delivery_adress.value_counts()"
   ]
  },
  {
   "cell_type": "code",
   "execution_count": 28,
   "metadata": {},
   "outputs": [],
   "source": [
    "customers.adress = customers.adress.fillna(customers.delivery_adress)"
   ]
  },
  {
   "cell_type": "code",
   "execution_count": 29,
   "metadata": {},
   "outputs": [],
   "source": [
    "customers = customers.drop(columns = ['delivery_adress'], axis = 1) "
   ]
  },
  {
   "cell_type": "code",
   "execution_count": 30,
   "metadata": {},
   "outputs": [
    {
     "data": {
      "text/plain": [
       "Index(['email', 'name', 'phone', 'date', 'adress', 'region_del_rus',\n",
       "       'postcode', 'payment_status', 'name_of_form', 'order_id', 'comments',\n",
       "       'comment_form', 'track_number', 'delivery', 'sum_of_money',\n",
       "       'promocode_rus', 'externalid', 'task', 'ages', 'region', 'promocode',\n",
       "       'country', 'tranid', 'formid', 'formname', 'paymentsystem',\n",
       "       'utm_content', 'status_id', 'stage', 'data_processing',\n",
       "       'ads_agreement'],\n",
       "      dtype='object')"
      ]
     },
     "execution_count": 30,
     "metadata": {},
     "output_type": "execute_result"
    }
   ],
   "source": [
    "#Look at our columns and decide what we need to the subsequent analysis\n",
    "#In this case we want to count next metrics: 1) dynamics of the average bill, 2) monthly revenue, \n",
    "#3)Number of unique customers, 4) loyality of customers (RFM-analysis)\n",
    "customers.columns"
   ]
  },
  {
   "cell_type": "code",
   "execution_count": 31,
   "metadata": {},
   "outputs": [],
   "source": [
    "#'status_id', 'utm_content', 'formname', 'stage', 'formid', 'delivery', 'name_of_form', 'payment_status', 'region_del_rus',\n",
    "#'paymentsystem', 'promocode', 'postcode', 'track_number', 'promocode_rus', 'task', 'promocode', 'paymentsystem'\n",
    "# are not helpfull for our analysis\n",
    "customers = customers.drop(columns = ['status_id', 'utm_content', 'formname', 'stage', 'formid', 'delivery', \n",
    "                                     'name_of_form', 'payment_status', 'region_del_rus',\n",
    "                                     'paymentsystem', 'promocode', 'postcode', 'track_number', \n",
    "                                      'promocode_rus', 'task', 'promocode', 'paymentsystem'], axis = 1) "
   ]
  },
  {
   "cell_type": "code",
   "execution_count": 32,
   "metadata": {},
   "outputs": [],
   "source": [
    "#1) Months dynamics of the average bill"
   ]
  },
  {
   "cell_type": "code",
   "execution_count": 33,
   "metadata": {},
   "outputs": [],
   "source": [
    "average_bill = customers "
   ]
  },
  {
   "cell_type": "code",
   "execution_count": 34,
   "metadata": {},
   "outputs": [],
   "source": [
    "average_bill.date = pd.to_datetime(average_bill.date, format=\"%Y-%m\")"
   ]
  },
  {
   "cell_type": "code",
   "execution_count": 35,
   "metadata": {},
   "outputs": [],
   "source": [
    "average_bill.date = average_bill.date.dt.strftime('%Y-%m')"
   ]
  },
  {
   "cell_type": "code",
   "execution_count": 36,
   "metadata": {},
   "outputs": [
    {
     "data": {
      "text/plain": [
       "Index(['email', 'name', 'phone', 'date', 'adress', 'order_id', 'comments',\n",
       "       'comment_form', 'sum_of_money', 'externalid', 'ages', 'region',\n",
       "       'country', 'tranid', 'data_processing', 'ads_agreement'],\n",
       "      dtype='object')"
      ]
     },
     "execution_count": 36,
     "metadata": {},
     "output_type": "execute_result"
    }
   ],
   "source": [
    "average_bill.columns"
   ]
  },
  {
   "cell_type": "code",
   "execution_count": 37,
   "metadata": {},
   "outputs": [],
   "source": [
    "agg_average_bill = average_bill.groupby('date', as_index=False).agg({'sum_of_money' : 'sum', 'name' : 'count'}) \\\n",
    "                            .rename(columns={'sum_of_money' : 'sum', 'name' : 'num_clients'})"
   ]
  },
  {
   "cell_type": "code",
   "execution_count": 38,
   "metadata": {},
   "outputs": [],
   "source": [
    "agg_average_bill['avg_bill'] = round(agg_average_bill['sum'] / agg_average_bill['num_clients'], 2)"
   ]
  },
  {
   "cell_type": "code",
   "execution_count": 39,
   "metadata": {},
   "outputs": [],
   "source": [
    "avg = agg_average_bill['sum'].sum() / agg_average_bill['num_clients'].sum()"
   ]
  },
  {
   "cell_type": "code",
   "execution_count": 40,
   "metadata": {},
   "outputs": [
    {
     "name": "stderr",
     "output_type": "stream",
     "text": [
      "/opt/tljh/user/lib/python3.7/site-packages/seaborn/_decorators.py:43: FutureWarning: Pass the following variables as keyword args: x, y. From version 0.12, the only valid positional argument will be `data`, and passing other arguments without an explicit keyword will result in an error or misinterpretation.\n",
      "  FutureWarning\n"
     ]
    },
    {
     "data": {
      "text/plain": [
       "<matplotlib.axes._subplots.AxesSubplot at 0x7fb4cb9de3c8>"
      ]
     },
     "execution_count": 40,
     "metadata": {},
     "output_type": "execute_result"
    },
    {
     "data": {
      "image/png": "[encoded data removed]",
      "text/plain": [
       "<Figure size 2160x1800 with 1 Axes>"
      ]
     },
     "metadata": {
      "needs_background": "light"
     },
     "output_type": "display_data"
    }
   ],
   "source": [
    "plt.figure(figsize=(30, 25))\n",
    "sns.barplot(x='date', y='avg_bill', data=agg_average_bill)\n",
    "sns.lineplot(agg_average_bill.date, avg)"
   ]
  },
  {
   "cell_type": "code",
   "execution_count": 41,
   "metadata": {},
   "outputs": [],
   "source": [
    "# 2) Find a monthly revenue"
   ]
  },
  {
   "cell_type": "code",
   "execution_count": 42,
   "metadata": {},
   "outputs": [],
   "source": [
    "monthly_revenue = customers.groupby('date', as_index=False).agg({'sum_of_money' : 'sum'})"
   ]
  },
  {
   "cell_type": "code",
   "execution_count": 43,
   "metadata": {},
   "outputs": [
    {
     "name": "stderr",
     "output_type": "stream",
     "text": [
      "/opt/tljh/user/lib/python3.7/site-packages/seaborn/_decorators.py:43: FutureWarning: Pass the following variables as keyword args: x, y. From version 0.12, the only valid positional argument will be `data`, and passing other arguments without an explicit keyword will result in an error or misinterpretation.\n",
      "  FutureWarning\n"
     ]
    },
    {
     "data": {
      "text/plain": [
       "<matplotlib.axes._subplots.AxesSubplot at 0x7fb4c7b53fd0>"
      ]
     },
     "execution_count": 43,
     "metadata": {},
     "output_type": "execute_result"
    },
    {
     "data": {
      "image/png": "[encoded data removed]",
      "text/plain": [
       "<Figure size 2160x1800 with 1 Axes>"
      ]
     },
     "metadata": {
      "needs_background": "light"
     },
     "output_type": "display_data"
    }
   ],
   "source": [
    "plt.figure(figsize=(30, 25))\n",
    "sns.lineplot(data=monthly_revenue, x='date', y='sum_of_money')\n",
    "sns.lineplot(monthly_revenue.date, monthly_revenue.sum_of_money.mean())"
   ]
  },
  {
   "cell_type": "code",
   "execution_count": 44,
   "metadata": {},
   "outputs": [],
   "source": [
    "# 3) Find a number of unique customers"
   ]
  },
  {
   "cell_type": "code",
   "execution_count": 45,
   "metadata": {},
   "outputs": [
    {
     "data": {
      "text/plain": [
       "1372"
      ]
     },
     "execution_count": 45,
     "metadata": {},
     "output_type": "execute_result"
    }
   ],
   "source": [
    "customers.email.nunique()"
   ]
  },
  {
   "cell_type": "code",
   "execution_count": 46,
   "metadata": {},
   "outputs": [
    {
     "data": {
      "text/plain": [
       "1369"
      ]
     },
     "execution_count": 46,
     "metadata": {},
     "output_type": "execute_result"
    }
   ],
   "source": [
    "customers.name.nunique()"
   ]
  },
  {
   "cell_type": "code",
   "execution_count": 47,
   "metadata": {},
   "outputs": [
    {
     "data": {
      "text/plain": [
       "1333"
      ]
     },
     "execution_count": 47,
     "metadata": {},
     "output_type": "execute_result"
    }
   ],
   "source": [
    "customers.phone.nunique()"
   ]
  },
  {
   "cell_type": "code",
   "execution_count": 48,
   "metadata": {},
   "outputs": [],
   "source": [
    "# We can see different numbers in names, emails, phones of unique customers. It could be because of mistakes during filling persol data in the cart"
   ]
  },
  {
   "cell_type": "code",
   "execution_count": 49,
   "metadata": {},
   "outputs": [],
   "source": [
    "# The best way to count using a phone number because there is a special mask for the phone number in the cart on the website"
   ]
  },
  {
   "cell_type": "code",
   "execution_count": 50,
   "metadata": {},
   "outputs": [],
   "source": [
    "unique_cust_phone = customers.groupby('phone', as_index=False).agg({'date' : 'count', 'sum_of_money' : 'sum'}) \\\n",
    "                    .sort_values('date', ascending=False) \\\n",
    "                    .rename(columns={'date' : 'purchases'})"
   ]
  },
  {
   "cell_type": "code",
   "execution_count": 51,
   "metadata": {},
   "outputs": [
    {
     "data": {
      "text/html": [
       "<div>\n",
       "<style scoped>\n",
       "    .dataframe tbody tr th:only-of-type {\n",
       "        vertical-align: middle;\n",
       "    }\n",
       "\n",
       "    .dataframe tbody tr th {\n",
       "        vertical-align: top;\n",
       "    }\n",
       "\n",
       "    .dataframe thead th {\n",
       "        text-align: right;\n",
       "    }\n",
       "</style>\n",
       "<table border=\"1\" class=\"dataframe\">\n",
       "  <thead>\n",
       "    <tr style=\"text-align: right;\">\n",
       "      <th></th>\n",
       "      <th>phone</th>\n",
       "      <th>purchases</th>\n",
       "      <th>sum_of_money</th>\n",
       "    </tr>\n",
       "  </thead>\n",
       "  <tbody>\n",
       "    <tr>\n",
       "      <th>473</th>\n",
       "      <td>+7 (916) 602-33-46</td>\n",
       "      <td>11</td>\n",
       "      <td>20015.0</td>\n",
       "    </tr>\n",
       "    <tr>\n",
       "      <th>1018</th>\n",
       "      <td>+7 (977) 258-09-00</td>\n",
       "      <td>9</td>\n",
       "      <td>10865.0</td>\n",
       "    </tr>\n",
       "    <tr>\n",
       "      <th>465</th>\n",
       "      <td>+7 (916) 465-31-30</td>\n",
       "      <td>8</td>\n",
       "      <td>8027.0</td>\n",
       "    </tr>\n",
       "    <tr>\n",
       "      <th>557</th>\n",
       "      <td>+7 (920) 744-74-53</td>\n",
       "      <td>7</td>\n",
       "      <td>14200.0</td>\n",
       "    </tr>\n",
       "    <tr>\n",
       "      <th>752</th>\n",
       "      <td>+7 (931) 581-33-07</td>\n",
       "      <td>7</td>\n",
       "      <td>13830.0</td>\n",
       "    </tr>\n",
       "    <tr>\n",
       "      <th>...</th>\n",
       "      <td>...</td>\n",
       "      <td>...</td>\n",
       "      <td>...</td>\n",
       "    </tr>\n",
       "    <tr>\n",
       "      <th>464</th>\n",
       "      <td>+7 (916) 449-08-79</td>\n",
       "      <td>1</td>\n",
       "      <td>1700.0</td>\n",
       "    </tr>\n",
       "    <tr>\n",
       "      <th>463</th>\n",
       "      <td>+7 (916) 444-75-50</td>\n",
       "      <td>1</td>\n",
       "      <td>1230.0</td>\n",
       "    </tr>\n",
       "    <tr>\n",
       "      <th>462</th>\n",
       "      <td>+7 (916) 421-5833</td>\n",
       "      <td>1</td>\n",
       "      <td>674.1</td>\n",
       "    </tr>\n",
       "    <tr>\n",
       "      <th>461</th>\n",
       "      <td>+7 (916) 413-54-16</td>\n",
       "      <td>1</td>\n",
       "      <td>1700.0</td>\n",
       "    </tr>\n",
       "    <tr>\n",
       "      <th>1332</th>\n",
       "      <td>89174000374</td>\n",
       "      <td>1</td>\n",
       "      <td>1560.0</td>\n",
       "    </tr>\n",
       "  </tbody>\n",
       "</table>\n",
       "<p>1333 rows × 3 columns</p>\n",
       "</div>"
      ],
      "text/plain": [
       "                   phone  purchases  sum_of_money\n",
       "473   +7 (916) 602-33-46         11       20015.0\n",
       "1018  +7 (977) 258-09-00          9       10865.0\n",
       "465   +7 (916) 465-31-30          8        8027.0\n",
       "557   +7 (920) 744-74-53          7       14200.0\n",
       "752   +7 (931) 581-33-07          7       13830.0\n",
       "...                  ...        ...           ...\n",
       "464   +7 (916) 449-08-79          1        1700.0\n",
       "463   +7 (916) 444-75-50          1        1230.0\n",
       "462    +7 (916) 421-5833          1         674.1\n",
       "461   +7 (916) 413-54-16          1        1700.0\n",
       "1332         89174000374          1        1560.0\n",
       "\n",
       "[1333 rows x 3 columns]"
      ]
     },
     "execution_count": 51,
     "metadata": {},
     "output_type": "execute_result"
    }
   ],
   "source": [
    "unique_cust_phone"
   ]
  },
  {
   "cell_type": "code",
   "execution_count": 52,
   "metadata": {},
   "outputs": [],
   "source": [
    "# 4) Define loyality of customers (RFM-analysis)\n",
    "# R - time from the user's last purchase to the current date\n",
    "# F - the total number of purchases from the user for all time\n",
    "# M - amount of purchases for all time\n",
    "# Determine the date of the last purchase for each customer"
   ]
  },
  {
   "cell_type": "code",
   "execution_count": 53,
   "metadata": {},
   "outputs": [],
   "source": [
    "last_orders = customers.groupby('phone').agg({'date': 'max'}) \\\n",
    "                                        .rename(columns={'date' : 'last_order'})"
   ]
  },
  {
   "cell_type": "code",
   "execution_count": 57,
   "metadata": {},
   "outputs": [],
   "source": [
    "R_customers_orders = customers.merge(last_orders, how='inner', left_on='phone', right_index=True)"
   ]
  },
  {
   "cell_type": "code",
   "execution_count": 65,
   "metadata": {},
   "outputs": [],
   "source": [
    "R_customers_orders.last_order = pd.to_datetime(R_customers_orders.last_order, format='%m-%Y')"
   ]
  },
  {
   "cell_type": "code",
   "execution_count": 67,
   "metadata": {},
   "outputs": [],
   "source": [
    "# Find how many months ago the last purchase was made. We will count from 12-2022"
   ]
  },
  {
   "cell_type": "code",
   "execution_count": 68,
   "metadata": {},
   "outputs": [],
   "source": [
    "last_day = datetime.date(2022, 12, 1)"
   ]
  },
  {
   "cell_type": "code",
   "execution_count": 69,
   "metadata": {},
   "outputs": [],
   "source": [
    "R_customers_orders['last_day'] = pd.to_datetime(last_day)"
   ]
  },
  {
   "cell_type": "code",
   "execution_count": 78,
   "metadata": {},
   "outputs": [],
   "source": [
    "R_customers_orders['days_delta'] = pd.to_timedelta(R_customers_orders.last_day - R_customers_orders.last_order).dt.days"
   ]
  },
  {
   "cell_type": "code",
   "execution_count": 79,
   "metadata": {},
   "outputs": [
    {
     "data": {
      "text/html": [
       "<div>\n",
       "<style scoped>\n",
       "    .dataframe tbody tr th:only-of-type {\n",
       "        vertical-align: middle;\n",
       "    }\n",
       "\n",
       "    .dataframe tbody tr th {\n",
       "        vertical-align: top;\n",
       "    }\n",
       "\n",
       "    .dataframe thead th {\n",
       "        text-align: right;\n",
       "    }\n",
       "</style>\n",
       "<table border=\"1\" class=\"dataframe\">\n",
       "  <thead>\n",
       "    <tr style=\"text-align: right;\">\n",
       "      <th></th>\n",
       "      <th>phone</th>\n",
       "    </tr>\n",
       "    <tr>\n",
       "      <th>days_delta</th>\n",
       "      <th></th>\n",
       "    </tr>\n",
       "  </thead>\n",
       "  <tbody>\n",
       "    <tr>\n",
       "      <th>0</th>\n",
       "      <td>4</td>\n",
       "    </tr>\n",
       "    <tr>\n",
       "      <th>30</th>\n",
       "      <td>57</td>\n",
       "    </tr>\n",
       "    <tr>\n",
       "      <th>61</th>\n",
       "      <td>16</td>\n",
       "    </tr>\n",
       "    <tr>\n",
       "      <th>91</th>\n",
       "      <td>10</td>\n",
       "    </tr>\n",
       "    <tr>\n",
       "      <th>122</th>\n",
       "      <td>14</td>\n",
       "    </tr>\n",
       "    <tr>\n",
       "      <th>153</th>\n",
       "      <td>7</td>\n",
       "    </tr>\n",
       "    <tr>\n",
       "      <th>183</th>\n",
       "      <td>12</td>\n",
       "    </tr>\n",
       "    <tr>\n",
       "      <th>214</th>\n",
       "      <td>8</td>\n",
       "    </tr>\n",
       "    <tr>\n",
       "      <th>244</th>\n",
       "      <td>24</td>\n",
       "    </tr>\n",
       "    <tr>\n",
       "      <th>275</th>\n",
       "      <td>63</td>\n",
       "    </tr>\n",
       "    <tr>\n",
       "      <th>303</th>\n",
       "      <td>28</td>\n",
       "    </tr>\n",
       "    <tr>\n",
       "      <th>334</th>\n",
       "      <td>71</td>\n",
       "    </tr>\n",
       "    <tr>\n",
       "      <th>365</th>\n",
       "      <td>125</td>\n",
       "    </tr>\n",
       "    <tr>\n",
       "      <th>395</th>\n",
       "      <td>213</td>\n",
       "    </tr>\n",
       "    <tr>\n",
       "      <th>426</th>\n",
       "      <td>66</td>\n",
       "    </tr>\n",
       "    <tr>\n",
       "      <th>456</th>\n",
       "      <td>78</td>\n",
       "    </tr>\n",
       "    <tr>\n",
       "      <th>487</th>\n",
       "      <td>22</td>\n",
       "    </tr>\n",
       "    <tr>\n",
       "      <th>518</th>\n",
       "      <td>42</td>\n",
       "    </tr>\n",
       "    <tr>\n",
       "      <th>548</th>\n",
       "      <td>42</td>\n",
       "    </tr>\n",
       "    <tr>\n",
       "      <th>579</th>\n",
       "      <td>70</td>\n",
       "    </tr>\n",
       "    <tr>\n",
       "      <th>609</th>\n",
       "      <td>33</td>\n",
       "    </tr>\n",
       "    <tr>\n",
       "      <th>640</th>\n",
       "      <td>25</td>\n",
       "    </tr>\n",
       "    <tr>\n",
       "      <th>668</th>\n",
       "      <td>63</td>\n",
       "    </tr>\n",
       "    <tr>\n",
       "      <th>699</th>\n",
       "      <td>31</td>\n",
       "    </tr>\n",
       "    <tr>\n",
       "      <th>730</th>\n",
       "      <td>221</td>\n",
       "    </tr>\n",
       "    <tr>\n",
       "      <th>760</th>\n",
       "      <td>32</td>\n",
       "    </tr>\n",
       "    <tr>\n",
       "      <th>791</th>\n",
       "      <td>9</td>\n",
       "    </tr>\n",
       "    <tr>\n",
       "      <th>821</th>\n",
       "      <td>32</td>\n",
       "    </tr>\n",
       "    <tr>\n",
       "      <th>852</th>\n",
       "      <td>134</td>\n",
       "    </tr>\n",
       "    <tr>\n",
       "      <th>883</th>\n",
       "      <td>10</td>\n",
       "    </tr>\n",
       "    <tr>\n",
       "      <th>913</th>\n",
       "      <td>43</td>\n",
       "    </tr>\n",
       "    <tr>\n",
       "      <th>944</th>\n",
       "      <td>18</td>\n",
       "    </tr>\n",
       "  </tbody>\n",
       "</table>\n",
       "</div>"
      ],
      "text/plain": [
       "            phone\n",
       "days_delta       \n",
       "0               4\n",
       "30             57\n",
       "61             16\n",
       "91             10\n",
       "122            14\n",
       "153             7\n",
       "183            12\n",
       "214             8\n",
       "244            24\n",
       "275            63\n",
       "303            28\n",
       "334            71\n",
       "365           125\n",
       "395           213\n",
       "426            66\n",
       "456            78\n",
       "487            22\n",
       "518            42\n",
       "548            42\n",
       "579            70\n",
       "609            33\n",
       "640            25\n",
       "668            63\n",
       "699            31\n",
       "730           221\n",
       "760            32\n",
       "791             9\n",
       "821            32\n",
       "852           134\n",
       "883            10\n",
       "913            43\n",
       "944            18"
      ]
     },
     "execution_count": 79,
     "metadata": {},
     "output_type": "execute_result"
    }
   ],
   "source": [
    "R_customers_orders.groupby('days_delta').agg({'phone' : 'count'}).sort_values('days_delta')"
   ]
  },
  {
   "cell_type": "code",
   "execution_count": 80,
   "metadata": {},
   "outputs": [],
   "source": [
    "# As you can see, there are customers who last bought more than 3 years ago.\n",
    "# Independently determine the boundaries for the criterion R\n",
    "# from 0 to 183 days - 3 points, 183 - 365 days - 2 points, more than 365 days - 1 point"
   ]
  },
  {
   "cell_type": "code",
   "execution_count": 81,
   "metadata": {},
   "outputs": [],
   "source": [
    "def function_r(R_customers_orders):\n",
    "    R = 0\n",
    "    if R_customers_orders[\"days_delta\"] <=183:\n",
    "        R = 3\n",
    "    elif 183 < R_customers_orders[\"days_delta\"] <=365:\n",
    "        R=2\n",
    "    else:\n",
    "        R=1\n",
    "    return (R)"
   ]
  },
  {
   "cell_type": "code",
   "execution_count": 82,
   "metadata": {},
   "outputs": [],
   "source": [
    "# R criterion added to table\n",
    "R_customers_orders['R'] = R_customers_orders.apply(function_r, axis=1)"
   ]
  },
  {
   "cell_type": "code",
   "execution_count": 85,
   "metadata": {},
   "outputs": [
    {
     "data": {
      "text/html": [
       "<div>\n",
       "<style scoped>\n",
       "    .dataframe tbody tr th:only-of-type {\n",
       "        vertical-align: middle;\n",
       "    }\n",
       "\n",
       "    .dataframe tbody tr th {\n",
       "        vertical-align: top;\n",
       "    }\n",
       "\n",
       "    .dataframe thead th {\n",
       "        text-align: right;\n",
       "    }\n",
       "</style>\n",
       "<table border=\"1\" class=\"dataframe\">\n",
       "  <thead>\n",
       "    <tr style=\"text-align: right;\">\n",
       "      <th></th>\n",
       "      <th>phone</th>\n",
       "    </tr>\n",
       "    <tr>\n",
       "      <th>R</th>\n",
       "      <th></th>\n",
       "    </tr>\n",
       "  </thead>\n",
       "  <tbody>\n",
       "    <tr>\n",
       "      <th>1</th>\n",
       "      <td>1184</td>\n",
       "    </tr>\n",
       "    <tr>\n",
       "      <th>2</th>\n",
       "      <td>319</td>\n",
       "    </tr>\n",
       "    <tr>\n",
       "      <th>3</th>\n",
       "      <td>120</td>\n",
       "    </tr>\n",
       "  </tbody>\n",
       "</table>\n",
       "</div>"
      ],
      "text/plain": [
       "   phone\n",
       "R       \n",
       "1   1184\n",
       "2    319\n",
       "3    120"
      ]
     },
     "execution_count": 85,
     "metadata": {},
     "output_type": "execute_result"
    }
   ],
   "source": [
    "R_customers_orders.groupby('R').agg({'phone' : 'count'}).sort_values('R')"
   ]
  },
  {
   "cell_type": "code",
   "execution_count": 87,
   "metadata": {},
   "outputs": [],
   "source": [
    "# Determine the total number of purchases from the user for the entire time - F-criterion\n",
    "# first, let's see what range the number of purchases lies in"
   ]
  },
  {
   "cell_type": "code",
   "execution_count": 90,
   "metadata": {},
   "outputs": [
    {
     "data": {
      "text/html": [
       "<div>\n",
       "<style scoped>\n",
       "    .dataframe tbody tr th:only-of-type {\n",
       "        vertical-align: middle;\n",
       "    }\n",
       "\n",
       "    .dataframe tbody tr th {\n",
       "        vertical-align: top;\n",
       "    }\n",
       "\n",
       "    .dataframe thead th {\n",
       "        text-align: right;\n",
       "    }\n",
       "</style>\n",
       "<table border=\"1\" class=\"dataframe\">\n",
       "  <thead>\n",
       "    <tr style=\"text-align: right;\">\n",
       "      <th></th>\n",
       "      <th>amount_of_orders</th>\n",
       "      <th>amount_of_customers</th>\n",
       "    </tr>\n",
       "  </thead>\n",
       "  <tbody>\n",
       "    <tr>\n",
       "      <th>9</th>\n",
       "      <td>11</td>\n",
       "      <td>1</td>\n",
       "    </tr>\n",
       "    <tr>\n",
       "      <th>8</th>\n",
       "      <td>9</td>\n",
       "      <td>1</td>\n",
       "    </tr>\n",
       "    <tr>\n",
       "      <th>7</th>\n",
       "      <td>8</td>\n",
       "      <td>1</td>\n",
       "    </tr>\n",
       "    <tr>\n",
       "      <th>6</th>\n",
       "      <td>7</td>\n",
       "      <td>2</td>\n",
       "    </tr>\n",
       "    <tr>\n",
       "      <th>5</th>\n",
       "      <td>6</td>\n",
       "      <td>2</td>\n",
       "    </tr>\n",
       "    <tr>\n",
       "      <th>4</th>\n",
       "      <td>5</td>\n",
       "      <td>4</td>\n",
       "    </tr>\n",
       "    <tr>\n",
       "      <th>3</th>\n",
       "      <td>4</td>\n",
       "      <td>14</td>\n",
       "    </tr>\n",
       "    <tr>\n",
       "      <th>2</th>\n",
       "      <td>3</td>\n",
       "      <td>35</td>\n",
       "    </tr>\n",
       "    <tr>\n",
       "      <th>1</th>\n",
       "      <td>2</td>\n",
       "      <td>115</td>\n",
       "    </tr>\n",
       "    <tr>\n",
       "      <th>0</th>\n",
       "      <td>1</td>\n",
       "      <td>1158</td>\n",
       "    </tr>\n",
       "  </tbody>\n",
       "</table>\n",
       "</div>"
      ],
      "text/plain": [
       "   amount_of_orders  amount_of_customers\n",
       "9                11                    1\n",
       "8                 9                    1\n",
       "7                 8                    1\n",
       "6                 7                    2\n",
       "5                 6                    2\n",
       "4                 5                    4\n",
       "3                 4                   14\n",
       "2                 3                   35\n",
       "1                 2                  115\n",
       "0                 1                 1158"
      ]
     },
     "execution_count": 90,
     "metadata": {},
     "output_type": "execute_result"
    }
   ],
   "source": [
    "R_customers_orders.groupby('phone', as_index=False).agg({'order_id' : 'count'}) \\\n",
    "    .sort_values('order_id', ascending=False) \\\n",
    "    .groupby('order_id', as_index=False).agg({'phone' : 'count'}) \\\n",
    "    .sort_values('order_id', ascending=False) \\\n",
    "    .rename(columns={'order_id' : 'amount_of_orders', 'phone' : 'amount_of_customers'})"
   ]
  },
  {
   "cell_type": "code",
   "execution_count": 91,
   "metadata": {},
   "outputs": [],
   "source": [
    "# The number of user purchases varies from 1 to 11 purchases.\n",
    "# Independently determine the boundaries for the criterion F\n",
    "# more than 3 purchases - 3 points, 2-3 purchases - 2 points, 1 purchase - 1 point"
   ]
  },
  {
   "cell_type": "code",
   "execution_count": 92,
   "metadata": {},
   "outputs": [],
   "source": [
    "F_customers_orders = customers.groupby('phone').agg({'order_id': 'count'}) \\\n",
    "                                        .rename(columns={'order_id' : 'amount_of_orders'}) \\\n",
    "                                        .sort_values('amount_of_orders', ascending=False)"
   ]
  },
  {
   "cell_type": "code",
   "execution_count": 94,
   "metadata": {},
   "outputs": [],
   "source": [
    "def function_f(F_customers_orders):\n",
    "    F = 0\n",
    "    if F_customers_orders[\"amount_of_orders\"] <2:\n",
    "        F = 1\n",
    "    elif 2 <= F_customers_orders[\"amount_of_orders\"] <4:\n",
    "        F=2\n",
    "    else:\n",
    "        F=3\n",
    "    return (F)"
   ]
  },
  {
   "cell_type": "code",
   "execution_count": 95,
   "metadata": {},
   "outputs": [],
   "source": [
    "F_customers_orders['F'] = F_customers_orders.apply(function_f, axis=1)"
   ]
  },
  {
   "cell_type": "code",
   "execution_count": 96,
   "metadata": {},
   "outputs": [],
   "source": [
    "# Criteria R and F added to the table\n",
    "RF_customers_orders = R_customers_orders.merge(F_customers_orders, how='inner', left_on='phone', right_index=True)"
   ]
  },
  {
   "cell_type": "code",
   "execution_count": 99,
   "metadata": {},
   "outputs": [],
   "source": [
    "# Determine the amount of purchases for all time by each client M-criterion"
   ]
  },
  {
   "cell_type": "code",
   "execution_count": 101,
   "metadata": {},
   "outputs": [],
   "source": [
    "total_sum = customers.groupby(['phone']).agg({'sum_of_money' : 'sum'}).sort_values('sum_of_money')"
   ]
  },
  {
   "cell_type": "code",
   "execution_count": 108,
   "metadata": {},
   "outputs": [
    {
     "name": "stderr",
     "output_type": "stream",
     "text": [
      "/opt/tljh/user/lib/python3.7/site-packages/seaborn/distributions.py:2557: FutureWarning: `distplot` is a deprecated function and will be removed in a future version. Please adapt your code to use either `displot` (a figure-level function with similar flexibility) or `histplot` (an axes-level function for histograms).\n",
      "  warnings.warn(msg, FutureWarning)\n"
     ]
    },
    {
     "data": {
      "text/plain": [
       "<matplotlib.axes._subplots.AxesSubplot at 0x7fb4c884bba8>"
      ]
     },
     "execution_count": 108,
     "metadata": {},
     "output_type": "execute_result"
    },
    {
     "data": {
      "image/png": "[encoded data removed]",
      "text/plain": [
       "<Figure size 1080x720 with 1 Axes>"
      ]
     },
     "metadata": {
      "needs_background": "light"
     },
     "output_type": "display_data"
    }
   ],
   "source": [
    "# look at the distribution of sums\n",
    "plt.figure(figsize=(15, 10))\n",
    "sns.distplot(total_sum)"
   ]
  },
  {
   "cell_type": "code",
   "execution_count": 105,
   "metadata": {},
   "outputs": [
    {
     "data": {
      "text/html": [
       "<div>\n",
       "<style scoped>\n",
       "    .dataframe tbody tr th:only-of-type {\n",
       "        vertical-align: middle;\n",
       "    }\n",
       "\n",
       "    .dataframe tbody tr th {\n",
       "        vertical-align: top;\n",
       "    }\n",
       "\n",
       "    .dataframe thead th {\n",
       "        text-align: right;\n",
       "    }\n",
       "</style>\n",
       "<table border=\"1\" class=\"dataframe\">\n",
       "  <thead>\n",
       "    <tr style=\"text-align: right;\">\n",
       "      <th></th>\n",
       "      <th>sum_of_money</th>\n",
       "    </tr>\n",
       "  </thead>\n",
       "  <tbody>\n",
       "    <tr>\n",
       "      <th>count</th>\n",
       "      <td>1333.000000</td>\n",
       "    </tr>\n",
       "    <tr>\n",
       "      <th>mean</th>\n",
       "      <td>2074.202851</td>\n",
       "    </tr>\n",
       "    <tr>\n",
       "      <th>std</th>\n",
       "      <td>2173.562033</td>\n",
       "    </tr>\n",
       "    <tr>\n",
       "      <th>min</th>\n",
       "      <td>0.000000</td>\n",
       "    </tr>\n",
       "    <tr>\n",
       "      <th>25%</th>\n",
       "      <td>900.000000</td>\n",
       "    </tr>\n",
       "    <tr>\n",
       "      <th>50%</th>\n",
       "      <td>1500.000000</td>\n",
       "    </tr>\n",
       "    <tr>\n",
       "      <th>75%</th>\n",
       "      <td>2300.000000</td>\n",
       "    </tr>\n",
       "    <tr>\n",
       "      <th>max</th>\n",
       "      <td>28000.000000</td>\n",
       "    </tr>\n",
       "  </tbody>\n",
       "</table>\n",
       "</div>"
      ],
      "text/plain": [
       "       sum_of_money\n",
       "count   1333.000000\n",
       "mean    2074.202851\n",
       "std     2173.562033\n",
       "min        0.000000\n",
       "25%      900.000000\n",
       "50%     1500.000000\n",
       "75%     2300.000000\n",
       "max    28000.000000"
      ]
     },
     "execution_count": 105,
     "metadata": {},
     "output_type": "execute_result"
    }
   ],
   "source": [
    "total_sum.describe()"
   ]
  },
  {
   "cell_type": "code",
   "execution_count": 106,
   "metadata": {},
   "outputs": [],
   "source": [
    "# it turned out the range of amounts from 0 to 28000 rubles. \n",
    "# 75% of all users paid less than 2300 rubles. median - 1500 rubles.\n",
    "# use quantiles in ranking M:\n",
    "# sum < 900 rubles (25% quantile) - 1 point, sum in the range 900-2300 rubles. - 2 points, more than 2300 rubles - 3 points"
   ]
  },
  {
   "cell_type": "code",
   "execution_count": 112,
   "metadata": {},
   "outputs": [],
   "source": [
    "def function_m(total_sum):\n",
    "    M = 0\n",
    "    if total_sum[\"sum_of_money\"] <=900:\n",
    "        M = 1\n",
    "    elif 900 < total_sum[\"sum_of_money\"] < 2300:\n",
    "        M=2\n",
    "    else:\n",
    "        M=3\n",
    "    return (M)"
   ]
  },
  {
   "cell_type": "code",
   "execution_count": 113,
   "metadata": {},
   "outputs": [],
   "source": [
    "total_sum['M'] = total_sum.apply(function_m, axis=1)"
   ]
  },
  {
   "cell_type": "code",
   "execution_count": 119,
   "metadata": {},
   "outputs": [],
   "source": [
    "# The M criterion is added to the table. A table was obtained with all three criteria - R, F and M.\n",
    "RFM = RF_customers_orders.merge(total_sum, how='inner', left_on='phone', right_index=True)"
   ]
  },
  {
   "cell_type": "code",
   "execution_count": 120,
   "metadata": {},
   "outputs": [
    {
     "data": {
      "text/html": [
       "<div>\n",
       "<style scoped>\n",
       "    .dataframe tbody tr th:only-of-type {\n",
       "        vertical-align: middle;\n",
       "    }\n",
       "\n",
       "    .dataframe tbody tr th {\n",
       "        vertical-align: top;\n",
       "    }\n",
       "\n",
       "    .dataframe thead th {\n",
       "        text-align: right;\n",
       "    }\n",
       "</style>\n",
       "<table border=\"1\" class=\"dataframe\">\n",
       "  <thead>\n",
       "    <tr style=\"text-align: right;\">\n",
       "      <th></th>\n",
       "      <th>email</th>\n",
       "      <th>name</th>\n",
       "      <th>phone</th>\n",
       "      <th>date</th>\n",
       "      <th>adress</th>\n",
       "      <th>order_id</th>\n",
       "      <th>comments</th>\n",
       "      <th>comment_form</th>\n",
       "      <th>sum_of_money_x</th>\n",
       "      <th>externalid</th>\n",
       "      <th>...</th>\n",
       "      <th>data_processing</th>\n",
       "      <th>ads_agreement</th>\n",
       "      <th>last_order</th>\n",
       "      <th>last_day</th>\n",
       "      <th>days_delta</th>\n",
       "      <th>R</th>\n",
       "      <th>amount_of_orders</th>\n",
       "      <th>F</th>\n",
       "      <th>sum_of_money_y</th>\n",
       "      <th>M</th>\n",
       "    </tr>\n",
       "  </thead>\n",
       "  <tbody>\n",
       "    <tr>\n",
       "      <th>0</th>\n",
       "      <td>anytka222002@mail.ru</td>\n",
       "      <td>Варварюк Анна Павловна</td>\n",
       "      <td>+7 (985) 636-7975</td>\n",
       "      <td>2020-05</td>\n",
       "      <td>Московская область, Раменский район, рабочий п...</td>\n",
       "      <td>0.000000e+00</td>\n",
       "      <td>NaN</td>\n",
       "      <td>NaN</td>\n",
       "      <td>1800.0</td>\n",
       "      <td>4</td>\n",
       "      <td>...</td>\n",
       "      <td>1.0</td>\n",
       "      <td>1.0</td>\n",
       "      <td>2020-05-01</td>\n",
       "      <td>2022-12-01</td>\n",
       "      <td>944</td>\n",
       "      <td>1</td>\n",
       "      <td>1</td>\n",
       "      <td>1</td>\n",
       "      <td>1800.0</td>\n",
       "      <td>2</td>\n",
       "    </tr>\n",
       "    <tr>\n",
       "      <th>1</th>\n",
       "      <td>Wolfraven412@gmail.com</td>\n",
       "      <td>Пушкарев Владимир Владимирович</td>\n",
       "      <td>+7 (924) 539-3506</td>\n",
       "      <td>2020-05</td>\n",
       "      <td>Иркутская область, город Черемхово, пер. Коопе...</td>\n",
       "      <td>0.000000e+00</td>\n",
       "      <td>NaN</td>\n",
       "      <td>NaN</td>\n",
       "      <td>650.0</td>\n",
       "      <td>5</td>\n",
       "      <td>...</td>\n",
       "      <td>1.0</td>\n",
       "      <td>1.0</td>\n",
       "      <td>2020-05-01</td>\n",
       "      <td>2022-12-01</td>\n",
       "      <td>944</td>\n",
       "      <td>1</td>\n",
       "      <td>1</td>\n",
       "      <td>1</td>\n",
       "      <td>650.0</td>\n",
       "      <td>1</td>\n",
       "    </tr>\n",
       "    <tr>\n",
       "      <th>2</th>\n",
       "      <td>dudevs@bk.ru</td>\n",
       "      <td>Ледаков Алексей Дмитриевич</td>\n",
       "      <td>+7 (967) 239-8777</td>\n",
       "      <td>2020-05</td>\n",
       "      <td>Москва, ясный проезд, дом 9, квартира 136</td>\n",
       "      <td>0.000000e+00</td>\n",
       "      <td>NaN</td>\n",
       "      <td>NaN</td>\n",
       "      <td>NaN</td>\n",
       "      <td>6</td>\n",
       "      <td>...</td>\n",
       "      <td>1.0</td>\n",
       "      <td>1.0</td>\n",
       "      <td>2020-05-01</td>\n",
       "      <td>2022-12-01</td>\n",
       "      <td>944</td>\n",
       "      <td>1</td>\n",
       "      <td>1</td>\n",
       "      <td>1</td>\n",
       "      <td>0.0</td>\n",
       "      <td>1</td>\n",
       "    </tr>\n",
       "    <tr>\n",
       "      <th>3</th>\n",
       "      <td>mastergerzogh@mail.ru</td>\n",
       "      <td>Войнов Владислав Дмитриевич</td>\n",
       "      <td>+7 (929) 501-1852</td>\n",
       "      <td>2020-05</td>\n",
       "      <td>Москва, Речников 20к1 кв80</td>\n",
       "      <td>0.000000e+00</td>\n",
       "      <td>NaN</td>\n",
       "      <td>NaN</td>\n",
       "      <td>765.0</td>\n",
       "      <td>7</td>\n",
       "      <td>...</td>\n",
       "      <td>1.0</td>\n",
       "      <td>1.0</td>\n",
       "      <td>2020-05-01</td>\n",
       "      <td>2022-12-01</td>\n",
       "      <td>944</td>\n",
       "      <td>1</td>\n",
       "      <td>1</td>\n",
       "      <td>1</td>\n",
       "      <td>765.0</td>\n",
       "      <td>1</td>\n",
       "    </tr>\n",
       "    <tr>\n",
       "      <th>4</th>\n",
       "      <td>Xdblpax@rambler.ru</td>\n",
       "      <td>Турурушкин Алексей Владимирович</td>\n",
       "      <td>+7 (963) 995-9552</td>\n",
       "      <td>2020-05</td>\n",
       "      <td>Москва ул. Гарибальди 11 кв 473</td>\n",
       "      <td>0.000000e+00</td>\n",
       "      <td>NaN</td>\n",
       "      <td>NaN</td>\n",
       "      <td>2000.0</td>\n",
       "      <td>8</td>\n",
       "      <td>...</td>\n",
       "      <td>1.0</td>\n",
       "      <td>1.0</td>\n",
       "      <td>2020-05-01</td>\n",
       "      <td>2022-12-01</td>\n",
       "      <td>944</td>\n",
       "      <td>1</td>\n",
       "      <td>1</td>\n",
       "      <td>1</td>\n",
       "      <td>2000.0</td>\n",
       "      <td>2</td>\n",
       "    </tr>\n",
       "    <tr>\n",
       "      <th>...</th>\n",
       "      <td>...</td>\n",
       "      <td>...</td>\n",
       "      <td>...</td>\n",
       "      <td>...</td>\n",
       "      <td>...</td>\n",
       "      <td>...</td>\n",
       "      <td>...</td>\n",
       "      <td>...</td>\n",
       "      <td>...</td>\n",
       "      <td>...</td>\n",
       "      <td>...</td>\n",
       "      <td>...</td>\n",
       "      <td>...</td>\n",
       "      <td>...</td>\n",
       "      <td>...</td>\n",
       "      <td>...</td>\n",
       "      <td>...</td>\n",
       "      <td>...</td>\n",
       "      <td>...</td>\n",
       "      <td>...</td>\n",
       "      <td>...</td>\n",
       "    </tr>\n",
       "    <tr>\n",
       "      <th>1625</th>\n",
       "      <td>berezyuk99.99@mail.ru</td>\n",
       "      <td>Березюк Евдокия Николаевна</td>\n",
       "      <td>+7 (916) 413-54-16</td>\n",
       "      <td>2022-11</td>\n",
       "      <td>Балашиха, Мкр. Ольгино, ул Граничная 20, Кв 19</td>\n",
       "      <td>1.146666e+09</td>\n",
       "      <td>NaN</td>\n",
       "      <td>NaN</td>\n",
       "      <td>1700.0</td>\n",
       "      <td>1659</td>\n",
       "      <td>...</td>\n",
       "      <td>1.0</td>\n",
       "      <td>1.0</td>\n",
       "      <td>2022-11-01</td>\n",
       "      <td>2022-12-01</td>\n",
       "      <td>30</td>\n",
       "      <td>3</td>\n",
       "      <td>1</td>\n",
       "      <td>1</td>\n",
       "      <td>1700.0</td>\n",
       "      <td>2</td>\n",
       "    </tr>\n",
       "    <tr>\n",
       "      <th>1626</th>\n",
       "      <td>martik.vm@gmail.com</td>\n",
       "      <td>Мартина Вера Сергеевна</td>\n",
       "      <td>+7 (921) 352-78-35</td>\n",
       "      <td>2022-11</td>\n",
       "      <td>Санкт-Петербург, ул. Смоленская, д. 18, кв. 53</td>\n",
       "      <td>1.772505e+09</td>\n",
       "      <td>NaN</td>\n",
       "      <td>NaN</td>\n",
       "      <td>1250.0</td>\n",
       "      <td>1660</td>\n",
       "      <td>...</td>\n",
       "      <td>1.0</td>\n",
       "      <td>0.0</td>\n",
       "      <td>2022-11-01</td>\n",
       "      <td>2022-12-01</td>\n",
       "      <td>30</td>\n",
       "      <td>3</td>\n",
       "      <td>1</td>\n",
       "      <td>1</td>\n",
       "      <td>1250.0</td>\n",
       "      <td>2</td>\n",
       "    </tr>\n",
       "    <tr>\n",
       "      <th>1627</th>\n",
       "      <td>rybin-o@inbox.ru</td>\n",
       "      <td>Рыбин Олег Вячеславович</td>\n",
       "      <td>+7 (900) 112-86-75</td>\n",
       "      <td>2022-11</td>\n",
       "      <td>Тверская область, Вышний Волочек, ул. Парижско...</td>\n",
       "      <td>1.539005e+09</td>\n",
       "      <td>NaN</td>\n",
       "      <td>Наша почта плохо работает, пожалуйста, сообщит...</td>\n",
       "      <td>2100.0</td>\n",
       "      <td>1661</td>\n",
       "      <td>...</td>\n",
       "      <td>1.0</td>\n",
       "      <td>1.0</td>\n",
       "      <td>2022-11-01</td>\n",
       "      <td>2022-12-01</td>\n",
       "      <td>30</td>\n",
       "      <td>3</td>\n",
       "      <td>1</td>\n",
       "      <td>1</td>\n",
       "      <td>2100.0</td>\n",
       "      <td>2</td>\n",
       "    </tr>\n",
       "    <tr>\n",
       "      <th>1628</th>\n",
       "      <td>neon.triangle@yandex.ru</td>\n",
       "      <td>Телкова Анастасия Юрьевна</td>\n",
       "      <td>+7 (985) 051-82-82</td>\n",
       "      <td>2022-12</td>\n",
       "      <td>Московская область, Котельники, улица малая ко...</td>\n",
       "      <td>1.724148e+09</td>\n",
       "      <td>NaN</td>\n",
       "      <td>NaN</td>\n",
       "      <td>900.0</td>\n",
       "      <td>1662</td>\n",
       "      <td>...</td>\n",
       "      <td>1.0</td>\n",
       "      <td>1.0</td>\n",
       "      <td>2022-12-01</td>\n",
       "      <td>2022-12-01</td>\n",
       "      <td>0</td>\n",
       "      <td>3</td>\n",
       "      <td>1</td>\n",
       "      <td>1</td>\n",
       "      <td>900.0</td>\n",
       "      <td>1</td>\n",
       "    </tr>\n",
       "    <tr>\n",
       "      <th>1629</th>\n",
       "      <td>viktoria.sergeevna.b@mail.ru</td>\n",
       "      <td>Баклаженко Виктория Сергеевна</td>\n",
       "      <td>+7 (960) 482-85-44</td>\n",
       "      <td>2022-12</td>\n",
       "      <td>Краснодарский край, г. Краснодар, ул. Севастоп...</td>\n",
       "      <td>1.488305e+09</td>\n",
       "      <td>NaN</td>\n",
       "      <td>NaN</td>\n",
       "      <td>3630.0</td>\n",
       "      <td>1663</td>\n",
       "      <td>...</td>\n",
       "      <td>1.0</td>\n",
       "      <td>1.0</td>\n",
       "      <td>2022-12-01</td>\n",
       "      <td>2022-12-01</td>\n",
       "      <td>0</td>\n",
       "      <td>3</td>\n",
       "      <td>1</td>\n",
       "      <td>1</td>\n",
       "      <td>3630.0</td>\n",
       "      <td>3</td>\n",
       "    </tr>\n",
       "  </tbody>\n",
       "</table>\n",
       "<p>1623 rows × 24 columns</p>\n",
       "</div>"
      ],
      "text/plain": [
       "                             email                             name  \\\n",
       "0             anytka222002@mail.ru           Варварюк Анна Павловна   \n",
       "1           Wolfraven412@gmail.com   Пушкарев Владимир Владимирович   \n",
       "2                     dudevs@bk.ru       Ледаков Алексей Дмитриевич   \n",
       "3            mastergerzogh@mail.ru      Войнов Владислав Дмитриевич   \n",
       "4               Xdblpax@rambler.ru  Турурушкин Алексей Владимирович   \n",
       "...                            ...                              ...   \n",
       "1625         berezyuk99.99@mail.ru       Березюк Евдокия Николаевна   \n",
       "1626           martik.vm@gmail.com           Мартина Вера Сергеевна   \n",
       "1627              rybin-o@inbox.ru          Рыбин Олег Вячеславович   \n",
       "1628       neon.triangle@yandex.ru        Телкова Анастасия Юрьевна   \n",
       "1629  viktoria.sergeevna.b@mail.ru    Баклаженко Виктория Сергеевна   \n",
       "\n",
       "                   phone     date  \\\n",
       "0      +7 (985) 636-7975  2020-05   \n",
       "1      +7 (924) 539-3506  2020-05   \n",
       "2      +7 (967) 239-8777  2020-05   \n",
       "3      +7 (929) 501-1852  2020-05   \n",
       "4      +7 (963) 995-9552  2020-05   \n",
       "...                  ...      ...   \n",
       "1625  +7 (916) 413-54-16  2022-11   \n",
       "1626  +7 (921) 352-78-35  2022-11   \n",
       "1627  +7 (900) 112-86-75  2022-11   \n",
       "1628  +7 (985) 051-82-82  2022-12   \n",
       "1629  +7 (960) 482-85-44  2022-12   \n",
       "\n",
       "                                                 adress      order_id  \\\n",
       "0     Московская область, Раменский район, рабочий п...  0.000000e+00   \n",
       "1     Иркутская область, город Черемхово, пер. Коопе...  0.000000e+00   \n",
       "2             Москва, ясный проезд, дом 9, квартира 136  0.000000e+00   \n",
       "3                            Москва, Речников 20к1 кв80  0.000000e+00   \n",
       "4                       Москва ул. Гарибальди 11 кв 473  0.000000e+00   \n",
       "...                                                 ...           ...   \n",
       "1625     Балашиха, Мкр. Ольгино, ул Граничная 20, Кв 19  1.146666e+09   \n",
       "1626     Санкт-Петербург, ул. Смоленская, д. 18, кв. 53  1.772505e+09   \n",
       "1627  Тверская область, Вышний Волочек, ул. Парижско...  1.539005e+09   \n",
       "1628  Московская область, Котельники, улица малая ко...  1.724148e+09   \n",
       "1629  Краснодарский край, г. Краснодар, ул. Севастоп...  1.488305e+09   \n",
       "\n",
       "     comments                                       comment_form  \\\n",
       "0         NaN                                                NaN   \n",
       "1         NaN                                                NaN   \n",
       "2         NaN                                                NaN   \n",
       "3         NaN                                                NaN   \n",
       "4         NaN                                                NaN   \n",
       "...       ...                                                ...   \n",
       "1625      NaN                                                NaN   \n",
       "1626      NaN                                                NaN   \n",
       "1627      NaN  Наша почта плохо работает, пожалуйста, сообщит...   \n",
       "1628      NaN                                                NaN   \n",
       "1629      NaN                                                NaN   \n",
       "\n",
       "      sum_of_money_x  externalid  ... data_processing ads_agreement  \\\n",
       "0             1800.0           4  ...             1.0           1.0   \n",
       "1              650.0           5  ...             1.0           1.0   \n",
       "2                NaN           6  ...             1.0           1.0   \n",
       "3              765.0           7  ...             1.0           1.0   \n",
       "4             2000.0           8  ...             1.0           1.0   \n",
       "...              ...         ...  ...             ...           ...   \n",
       "1625          1700.0        1659  ...             1.0           1.0   \n",
       "1626          1250.0        1660  ...             1.0           0.0   \n",
       "1627          2100.0        1661  ...             1.0           1.0   \n",
       "1628           900.0        1662  ...             1.0           1.0   \n",
       "1629          3630.0        1663  ...             1.0           1.0   \n",
       "\n",
       "     last_order   last_day  days_delta  R amount_of_orders  F  sum_of_money_y  \\\n",
       "0    2020-05-01 2022-12-01         944  1                1  1          1800.0   \n",
       "1    2020-05-01 2022-12-01         944  1                1  1           650.0   \n",
       "2    2020-05-01 2022-12-01         944  1                1  1             0.0   \n",
       "3    2020-05-01 2022-12-01         944  1                1  1           765.0   \n",
       "4    2020-05-01 2022-12-01         944  1                1  1          2000.0   \n",
       "...         ...        ...         ... ..              ... ..             ...   \n",
       "1625 2022-11-01 2022-12-01          30  3                1  1          1700.0   \n",
       "1626 2022-11-01 2022-12-01          30  3                1  1          1250.0   \n",
       "1627 2022-11-01 2022-12-01          30  3                1  1          2100.0   \n",
       "1628 2022-12-01 2022-12-01           0  3                1  1           900.0   \n",
       "1629 2022-12-01 2022-12-01           0  3                1  1          3630.0   \n",
       "\n",
       "      M  \n",
       "0     2  \n",
       "1     1  \n",
       "2     1  \n",
       "3     1  \n",
       "4     2  \n",
       "...  ..  \n",
       "1625  2  \n",
       "1626  2  \n",
       "1627  2  \n",
       "1628  1  \n",
       "1629  3  \n",
       "\n",
       "[1623 rows x 24 columns]"
      ]
     },
     "execution_count": 120,
     "metadata": {},
     "output_type": "execute_result"
    }
   ],
   "source": [
    "RFM"
   ]
  },
  {
   "cell_type": "code",
   "execution_count": 121,
   "metadata": {},
   "outputs": [],
   "source": [
    "# remove auxiliary columns\n",
    "RFM = RFM.drop(columns=['last_day', 'days_delta', 'amount_of_orders', 'sum_of_money_y'])"
   ]
  },
  {
   "cell_type": "code",
   "execution_count": 122,
   "metadata": {},
   "outputs": [],
   "source": [
    "# Make transformations to combine RFM scores\n",
    "RFM.R = RFM.R.astype('str')\n",
    "RFM.F = RFM.F.astype('str')\n",
    "RFM.M = RFM.M.astype('str')"
   ]
  },
  {
   "cell_type": "code",
   "execution_count": 123,
   "metadata": {},
   "outputs": [
    {
     "data": {
      "text/plain": [
       "email                      object\n",
       "name                       object\n",
       "phone                      object\n",
       "date                       object\n",
       "adress                     object\n",
       "order_id                  float64\n",
       "comments                   object\n",
       "comment_form               object\n",
       "sum_of_money_x            float64\n",
       "externalid                  int64\n",
       "ages                       object\n",
       "region                     object\n",
       "country                    object\n",
       "tranid                     object\n",
       "data_processing           float64\n",
       "ads_agreement             float64\n",
       "last_order         datetime64[ns]\n",
       "R                          object\n",
       "F                          object\n",
       "M                          object\n",
       "dtype: object"
      ]
     },
     "execution_count": 123,
     "metadata": {},
     "output_type": "execute_result"
    }
   ],
   "source": [
    "RFM.dtypes"
   ]
  },
  {
   "cell_type": "code",
   "execution_count": 124,
   "metadata": {},
   "outputs": [],
   "source": [
    "RFM['RFM'] = RFM.R + RFM.F + RFM.M"
   ]
  },
  {
   "cell_type": "code",
   "execution_count": 125,
   "metadata": {},
   "outputs": [
    {
     "data": {
      "text/html": [
       "<div>\n",
       "<style scoped>\n",
       "    .dataframe tbody tr th:only-of-type {\n",
       "        vertical-align: middle;\n",
       "    }\n",
       "\n",
       "    .dataframe tbody tr th {\n",
       "        vertical-align: top;\n",
       "    }\n",
       "\n",
       "    .dataframe thead th {\n",
       "        text-align: right;\n",
       "    }\n",
       "</style>\n",
       "<table border=\"1\" class=\"dataframe\">\n",
       "  <thead>\n",
       "    <tr style=\"text-align: right;\">\n",
       "      <th></th>\n",
       "      <th>email</th>\n",
       "      <th>name</th>\n",
       "      <th>phone</th>\n",
       "      <th>date</th>\n",
       "      <th>adress</th>\n",
       "      <th>order_id</th>\n",
       "      <th>comments</th>\n",
       "      <th>comment_form</th>\n",
       "      <th>sum_of_money_x</th>\n",
       "      <th>externalid</th>\n",
       "      <th>...</th>\n",
       "      <th>region</th>\n",
       "      <th>country</th>\n",
       "      <th>tranid</th>\n",
       "      <th>data_processing</th>\n",
       "      <th>ads_agreement</th>\n",
       "      <th>last_order</th>\n",
       "      <th>R</th>\n",
       "      <th>F</th>\n",
       "      <th>M</th>\n",
       "      <th>RFM</th>\n",
       "    </tr>\n",
       "  </thead>\n",
       "  <tbody>\n",
       "    <tr>\n",
       "      <th>0</th>\n",
       "      <td>anytka222002@mail.ru</td>\n",
       "      <td>Варварюк Анна Павловна</td>\n",
       "      <td>+7 (985) 636-7975</td>\n",
       "      <td>2020-05</td>\n",
       "      <td>Московская область, Раменский район, рабочий п...</td>\n",
       "      <td>0.000000e+00</td>\n",
       "      <td>NaN</td>\n",
       "      <td>NaN</td>\n",
       "      <td>1800.0</td>\n",
       "      <td>4</td>\n",
       "      <td>...</td>\n",
       "      <td>NaN</td>\n",
       "      <td>Russia</td>\n",
       "      <td>2035439:872220872</td>\n",
       "      <td>1.0</td>\n",
       "      <td>1.0</td>\n",
       "      <td>2020-05-01</td>\n",
       "      <td>1</td>\n",
       "      <td>1</td>\n",
       "      <td>2</td>\n",
       "      <td>112</td>\n",
       "    </tr>\n",
       "    <tr>\n",
       "      <th>1</th>\n",
       "      <td>Wolfraven412@gmail.com</td>\n",
       "      <td>Пушкарев Владимир Владимирович</td>\n",
       "      <td>+7 (924) 539-3506</td>\n",
       "      <td>2020-05</td>\n",
       "      <td>Иркутская область, город Черемхово, пер. Коопе...</td>\n",
       "      <td>0.000000e+00</td>\n",
       "      <td>NaN</td>\n",
       "      <td>NaN</td>\n",
       "      <td>650.0</td>\n",
       "      <td>5</td>\n",
       "      <td>...</td>\n",
       "      <td>NaN</td>\n",
       "      <td>Russia</td>\n",
       "      <td>2035439:873944842</td>\n",
       "      <td>1.0</td>\n",
       "      <td>1.0</td>\n",
       "      <td>2020-05-01</td>\n",
       "      <td>1</td>\n",
       "      <td>1</td>\n",
       "      <td>1</td>\n",
       "      <td>111</td>\n",
       "    </tr>\n",
       "    <tr>\n",
       "      <th>2</th>\n",
       "      <td>dudevs@bk.ru</td>\n",
       "      <td>Ледаков Алексей Дмитриевич</td>\n",
       "      <td>+7 (967) 239-8777</td>\n",
       "      <td>2020-05</td>\n",
       "      <td>Москва, ясный проезд, дом 9, квартира 136</td>\n",
       "      <td>0.000000e+00</td>\n",
       "      <td>NaN</td>\n",
       "      <td>NaN</td>\n",
       "      <td>NaN</td>\n",
       "      <td>6</td>\n",
       "      <td>...</td>\n",
       "      <td>NaN</td>\n",
       "      <td>Russia</td>\n",
       "      <td>2035439:874428832</td>\n",
       "      <td>1.0</td>\n",
       "      <td>1.0</td>\n",
       "      <td>2020-05-01</td>\n",
       "      <td>1</td>\n",
       "      <td>1</td>\n",
       "      <td>1</td>\n",
       "      <td>111</td>\n",
       "    </tr>\n",
       "    <tr>\n",
       "      <th>3</th>\n",
       "      <td>mastergerzogh@mail.ru</td>\n",
       "      <td>Войнов Владислав Дмитриевич</td>\n",
       "      <td>+7 (929) 501-1852</td>\n",
       "      <td>2020-05</td>\n",
       "      <td>Москва, Речников 20к1 кв80</td>\n",
       "      <td>0.000000e+00</td>\n",
       "      <td>NaN</td>\n",
       "      <td>NaN</td>\n",
       "      <td>765.0</td>\n",
       "      <td>7</td>\n",
       "      <td>...</td>\n",
       "      <td>NaN</td>\n",
       "      <td>Russia</td>\n",
       "      <td>2035439:876111122</td>\n",
       "      <td>1.0</td>\n",
       "      <td>1.0</td>\n",
       "      <td>2020-05-01</td>\n",
       "      <td>1</td>\n",
       "      <td>1</td>\n",
       "      <td>1</td>\n",
       "      <td>111</td>\n",
       "    </tr>\n",
       "    <tr>\n",
       "      <th>4</th>\n",
       "      <td>Xdblpax@rambler.ru</td>\n",
       "      <td>Турурушкин Алексей Владимирович</td>\n",
       "      <td>+7 (963) 995-9552</td>\n",
       "      <td>2020-05</td>\n",
       "      <td>Москва ул. Гарибальди 11 кв 473</td>\n",
       "      <td>0.000000e+00</td>\n",
       "      <td>NaN</td>\n",
       "      <td>NaN</td>\n",
       "      <td>2000.0</td>\n",
       "      <td>8</td>\n",
       "      <td>...</td>\n",
       "      <td>NaN</td>\n",
       "      <td>Russia</td>\n",
       "      <td>2035439:877081572</td>\n",
       "      <td>1.0</td>\n",
       "      <td>1.0</td>\n",
       "      <td>2020-05-01</td>\n",
       "      <td>1</td>\n",
       "      <td>1</td>\n",
       "      <td>2</td>\n",
       "      <td>112</td>\n",
       "    </tr>\n",
       "    <tr>\n",
       "      <th>...</th>\n",
       "      <td>...</td>\n",
       "      <td>...</td>\n",
       "      <td>...</td>\n",
       "      <td>...</td>\n",
       "      <td>...</td>\n",
       "      <td>...</td>\n",
       "      <td>...</td>\n",
       "      <td>...</td>\n",
       "      <td>...</td>\n",
       "      <td>...</td>\n",
       "      <td>...</td>\n",
       "      <td>...</td>\n",
       "      <td>...</td>\n",
       "      <td>...</td>\n",
       "      <td>...</td>\n",
       "      <td>...</td>\n",
       "      <td>...</td>\n",
       "      <td>...</td>\n",
       "      <td>...</td>\n",
       "      <td>...</td>\n",
       "      <td>...</td>\n",
       "    </tr>\n",
       "    <tr>\n",
       "      <th>1625</th>\n",
       "      <td>berezyuk99.99@mail.ru</td>\n",
       "      <td>Березюк Евдокия Николаевна</td>\n",
       "      <td>+7 (916) 413-54-16</td>\n",
       "      <td>2022-11</td>\n",
       "      <td>Балашиха, Мкр. Ольгино, ул Граничная 20, Кв 19</td>\n",
       "      <td>1.146666e+09</td>\n",
       "      <td>NaN</td>\n",
       "      <td>NaN</td>\n",
       "      <td>1700.0</td>\n",
       "      <td>1659</td>\n",
       "      <td>...</td>\n",
       "      <td>NaN</td>\n",
       "      <td>Russia</td>\n",
       "      <td>2035439:4026240991</td>\n",
       "      <td>1.0</td>\n",
       "      <td>1.0</td>\n",
       "      <td>2022-11-01</td>\n",
       "      <td>3</td>\n",
       "      <td>1</td>\n",
       "      <td>2</td>\n",
       "      <td>312</td>\n",
       "    </tr>\n",
       "    <tr>\n",
       "      <th>1626</th>\n",
       "      <td>martik.vm@gmail.com</td>\n",
       "      <td>Мартина Вера Сергеевна</td>\n",
       "      <td>+7 (921) 352-78-35</td>\n",
       "      <td>2022-11</td>\n",
       "      <td>Санкт-Петербург, ул. Смоленская, д. 18, кв. 53</td>\n",
       "      <td>1.772505e+09</td>\n",
       "      <td>NaN</td>\n",
       "      <td>NaN</td>\n",
       "      <td>1250.0</td>\n",
       "      <td>1660</td>\n",
       "      <td>...</td>\n",
       "      <td>NaN</td>\n",
       "      <td>Russia</td>\n",
       "      <td>2035439:4029602471</td>\n",
       "      <td>1.0</td>\n",
       "      <td>0.0</td>\n",
       "      <td>2022-11-01</td>\n",
       "      <td>3</td>\n",
       "      <td>1</td>\n",
       "      <td>2</td>\n",
       "      <td>312</td>\n",
       "    </tr>\n",
       "    <tr>\n",
       "      <th>1627</th>\n",
       "      <td>rybin-o@inbox.ru</td>\n",
       "      <td>Рыбин Олег Вячеславович</td>\n",
       "      <td>+7 (900) 112-86-75</td>\n",
       "      <td>2022-11</td>\n",
       "      <td>Тверская область, Вышний Волочек, ул. Парижско...</td>\n",
       "      <td>1.539005e+09</td>\n",
       "      <td>NaN</td>\n",
       "      <td>Наша почта плохо работает, пожалуйста, сообщит...</td>\n",
       "      <td>2100.0</td>\n",
       "      <td>1661</td>\n",
       "      <td>...</td>\n",
       "      <td>NaN</td>\n",
       "      <td>Russia</td>\n",
       "      <td>2035439:4032648731</td>\n",
       "      <td>1.0</td>\n",
       "      <td>1.0</td>\n",
       "      <td>2022-11-01</td>\n",
       "      <td>3</td>\n",
       "      <td>1</td>\n",
       "      <td>2</td>\n",
       "      <td>312</td>\n",
       "    </tr>\n",
       "    <tr>\n",
       "      <th>1628</th>\n",
       "      <td>neon.triangle@yandex.ru</td>\n",
       "      <td>Телкова Анастасия Юрьевна</td>\n",
       "      <td>+7 (985) 051-82-82</td>\n",
       "      <td>2022-12</td>\n",
       "      <td>Московская область, Котельники, улица малая ко...</td>\n",
       "      <td>1.724148e+09</td>\n",
       "      <td>NaN</td>\n",
       "      <td>NaN</td>\n",
       "      <td>900.0</td>\n",
       "      <td>1662</td>\n",
       "      <td>...</td>\n",
       "      <td>NaN</td>\n",
       "      <td>Russia</td>\n",
       "      <td>2035439:4056834981</td>\n",
       "      <td>1.0</td>\n",
       "      <td>1.0</td>\n",
       "      <td>2022-12-01</td>\n",
       "      <td>3</td>\n",
       "      <td>1</td>\n",
       "      <td>1</td>\n",
       "      <td>311</td>\n",
       "    </tr>\n",
       "    <tr>\n",
       "      <th>1629</th>\n",
       "      <td>viktoria.sergeevna.b@mail.ru</td>\n",
       "      <td>Баклаженко Виктория Сергеевна</td>\n",
       "      <td>+7 (960) 482-85-44</td>\n",
       "      <td>2022-12</td>\n",
       "      <td>Краснодарский край, г. Краснодар, ул. Севастоп...</td>\n",
       "      <td>1.488305e+09</td>\n",
       "      <td>NaN</td>\n",
       "      <td>NaN</td>\n",
       "      <td>3630.0</td>\n",
       "      <td>1663</td>\n",
       "      <td>...</td>\n",
       "      <td>NaN</td>\n",
       "      <td>Russia</td>\n",
       "      <td>2035439:4058859911</td>\n",
       "      <td>1.0</td>\n",
       "      <td>1.0</td>\n",
       "      <td>2022-12-01</td>\n",
       "      <td>3</td>\n",
       "      <td>1</td>\n",
       "      <td>3</td>\n",
       "      <td>313</td>\n",
       "    </tr>\n",
       "  </tbody>\n",
       "</table>\n",
       "<p>1623 rows × 21 columns</p>\n",
       "</div>"
      ],
      "text/plain": [
       "                             email                             name  \\\n",
       "0             anytka222002@mail.ru           Варварюк Анна Павловна   \n",
       "1           Wolfraven412@gmail.com   Пушкарев Владимир Владимирович   \n",
       "2                     dudevs@bk.ru       Ледаков Алексей Дмитриевич   \n",
       "3            mastergerzogh@mail.ru      Войнов Владислав Дмитриевич   \n",
       "4               Xdblpax@rambler.ru  Турурушкин Алексей Владимирович   \n",
       "...                            ...                              ...   \n",
       "1625         berezyuk99.99@mail.ru       Березюк Евдокия Николаевна   \n",
       "1626           martik.vm@gmail.com           Мартина Вера Сергеевна   \n",
       "1627              rybin-o@inbox.ru          Рыбин Олег Вячеславович   \n",
       "1628       neon.triangle@yandex.ru        Телкова Анастасия Юрьевна   \n",
       "1629  viktoria.sergeevna.b@mail.ru    Баклаженко Виктория Сергеевна   \n",
       "\n",
       "                   phone     date  \\\n",
       "0      +7 (985) 636-7975  2020-05   \n",
       "1      +7 (924) 539-3506  2020-05   \n",
       "2      +7 (967) 239-8777  2020-05   \n",
       "3      +7 (929) 501-1852  2020-05   \n",
       "4      +7 (963) 995-9552  2020-05   \n",
       "...                  ...      ...   \n",
       "1625  +7 (916) 413-54-16  2022-11   \n",
       "1626  +7 (921) 352-78-35  2022-11   \n",
       "1627  +7 (900) 112-86-75  2022-11   \n",
       "1628  +7 (985) 051-82-82  2022-12   \n",
       "1629  +7 (960) 482-85-44  2022-12   \n",
       "\n",
       "                                                 adress      order_id  \\\n",
       "0     Московская область, Раменский район, рабочий п...  0.000000e+00   \n",
       "1     Иркутская область, город Черемхово, пер. Коопе...  0.000000e+00   \n",
       "2             Москва, ясный проезд, дом 9, квартира 136  0.000000e+00   \n",
       "3                            Москва, Речников 20к1 кв80  0.000000e+00   \n",
       "4                       Москва ул. Гарибальди 11 кв 473  0.000000e+00   \n",
       "...                                                 ...           ...   \n",
       "1625     Балашиха, Мкр. Ольгино, ул Граничная 20, Кв 19  1.146666e+09   \n",
       "1626     Санкт-Петербург, ул. Смоленская, д. 18, кв. 53  1.772505e+09   \n",
       "1627  Тверская область, Вышний Волочек, ул. Парижско...  1.539005e+09   \n",
       "1628  Московская область, Котельники, улица малая ко...  1.724148e+09   \n",
       "1629  Краснодарский край, г. Краснодар, ул. Севастоп...  1.488305e+09   \n",
       "\n",
       "     comments                                       comment_form  \\\n",
       "0         NaN                                                NaN   \n",
       "1         NaN                                                NaN   \n",
       "2         NaN                                                NaN   \n",
       "3         NaN                                                NaN   \n",
       "4         NaN                                                NaN   \n",
       "...       ...                                                ...   \n",
       "1625      NaN                                                NaN   \n",
       "1626      NaN                                                NaN   \n",
       "1627      NaN  Наша почта плохо работает, пожалуйста, сообщит...   \n",
       "1628      NaN                                                NaN   \n",
       "1629      NaN                                                NaN   \n",
       "\n",
       "      sum_of_money_x  externalid  ... region country              tranid  \\\n",
       "0             1800.0           4  ...    NaN  Russia   2035439:872220872   \n",
       "1              650.0           5  ...    NaN  Russia   2035439:873944842   \n",
       "2                NaN           6  ...    NaN  Russia   2035439:874428832   \n",
       "3              765.0           7  ...    NaN  Russia   2035439:876111122   \n",
       "4             2000.0           8  ...    NaN  Russia   2035439:877081572   \n",
       "...              ...         ...  ...    ...     ...                 ...   \n",
       "1625          1700.0        1659  ...    NaN  Russia  2035439:4026240991   \n",
       "1626          1250.0        1660  ...    NaN  Russia  2035439:4029602471   \n",
       "1627          2100.0        1661  ...    NaN  Russia  2035439:4032648731   \n",
       "1628           900.0        1662  ...    NaN  Russia  2035439:4056834981   \n",
       "1629          3630.0        1663  ...    NaN  Russia  2035439:4058859911   \n",
       "\n",
       "     data_processing  ads_agreement  last_order  R  F  M  RFM  \n",
       "0                1.0            1.0  2020-05-01  1  1  2  112  \n",
       "1                1.0            1.0  2020-05-01  1  1  1  111  \n",
       "2                1.0            1.0  2020-05-01  1  1  1  111  \n",
       "3                1.0            1.0  2020-05-01  1  1  1  111  \n",
       "4                1.0            1.0  2020-05-01  1  1  2  112  \n",
       "...              ...            ...         ... .. .. ..  ...  \n",
       "1625             1.0            1.0  2022-11-01  3  1  2  312  \n",
       "1626             1.0            0.0  2022-11-01  3  1  2  312  \n",
       "1627             1.0            1.0  2022-11-01  3  1  2  312  \n",
       "1628             1.0            1.0  2022-12-01  3  1  1  311  \n",
       "1629             1.0            1.0  2022-12-01  3  1  3  313  \n",
       "\n",
       "[1623 rows x 21 columns]"
      ]
     },
     "execution_count": 125,
     "metadata": {},
     "output_type": "execute_result"
    }
   ],
   "source": [
    "RFM"
   ]
  },
  {
   "cell_type": "code",
   "execution_count": 126,
   "metadata": {},
   "outputs": [
    {
     "data": {
      "text/html": [
       "<div>\n",
       "<style scoped>\n",
       "    .dataframe tbody tr th:only-of-type {\n",
       "        vertical-align: middle;\n",
       "    }\n",
       "\n",
       "    .dataframe tbody tr th {\n",
       "        vertical-align: top;\n",
       "    }\n",
       "\n",
       "    .dataframe thead th {\n",
       "        text-align: right;\n",
       "    }\n",
       "</style>\n",
       "<table border=\"1\" class=\"dataframe\">\n",
       "  <thead>\n",
       "    <tr style=\"text-align: right;\">\n",
       "      <th></th>\n",
       "      <th>phone</th>\n",
       "    </tr>\n",
       "    <tr>\n",
       "      <th>RFM</th>\n",
       "      <th></th>\n",
       "    </tr>\n",
       "  </thead>\n",
       "  <tbody>\n",
       "    <tr>\n",
       "      <th>111</th>\n",
       "      <td>370</td>\n",
       "    </tr>\n",
       "    <tr>\n",
       "      <th>112</th>\n",
       "      <td>394</td>\n",
       "    </tr>\n",
       "    <tr>\n",
       "      <th>113</th>\n",
       "      <td>183</td>\n",
       "    </tr>\n",
       "    <tr>\n",
       "      <th>122</th>\n",
       "      <td>29</td>\n",
       "    </tr>\n",
       "    <tr>\n",
       "      <th>123</th>\n",
       "      <td>67</td>\n",
       "    </tr>\n",
       "    <tr>\n",
       "      <th>133</th>\n",
       "      <td>5</td>\n",
       "    </tr>\n",
       "    <tr>\n",
       "      <th>211</th>\n",
       "      <td>38</td>\n",
       "    </tr>\n",
       "    <tr>\n",
       "      <th>212</th>\n",
       "      <td>101</td>\n",
       "    </tr>\n",
       "    <tr>\n",
       "      <th>213</th>\n",
       "      <td>24</td>\n",
       "    </tr>\n",
       "    <tr>\n",
       "      <th>222</th>\n",
       "      <td>12</td>\n",
       "    </tr>\n",
       "    <tr>\n",
       "      <th>223</th>\n",
       "      <td>26</td>\n",
       "    </tr>\n",
       "    <tr>\n",
       "      <th>233</th>\n",
       "      <td>15</td>\n",
       "    </tr>\n",
       "    <tr>\n",
       "      <th>311</th>\n",
       "      <td>7</td>\n",
       "    </tr>\n",
       "    <tr>\n",
       "      <th>312</th>\n",
       "      <td>34</td>\n",
       "    </tr>\n",
       "    <tr>\n",
       "      <th>313</th>\n",
       "      <td>7</td>\n",
       "    </tr>\n",
       "    <tr>\n",
       "      <th>322</th>\n",
       "      <td>5</td>\n",
       "    </tr>\n",
       "    <tr>\n",
       "      <th>323</th>\n",
       "      <td>11</td>\n",
       "    </tr>\n",
       "    <tr>\n",
       "      <th>333</th>\n",
       "      <td>5</td>\n",
       "    </tr>\n",
       "  </tbody>\n",
       "</table>\n",
       "</div>"
      ],
      "text/plain": [
       "     phone\n",
       "RFM       \n",
       "111    370\n",
       "112    394\n",
       "113    183\n",
       "122     29\n",
       "123     67\n",
       "133      5\n",
       "211     38\n",
       "212    101\n",
       "213     24\n",
       "222     12\n",
       "223     26\n",
       "233     15\n",
       "311      7\n",
       "312     34\n",
       "313      7\n",
       "322      5\n",
       "323     11\n",
       "333      5"
      ]
     },
     "execution_count": 126,
     "metadata": {},
     "output_type": "execute_result"
    }
   ],
   "source": [
    "RFM.groupby('RFM').agg({'phone' : pd.Series.nunique})"
   ]
  },
  {
   "cell_type": "code",
   "execution_count": 127,
   "metadata": {},
   "outputs": [],
   "source": [
    "# now we know our customers a little bit more.\n",
    "# For examplem, we can suggest loyal customers constant discounts (who has F=3)\n",
    "# Or suggest something for them, who has R=2 (have not bought for a long time, but not completely lost either)\n",
    "# Or give some presents to them, who spent a lot of money (M=3)"
   ]
  },
  {
   "cell_type": "code",
   "execution_count": null,
   "metadata": {},
   "outputs": [],
   "source": []
  }
 ],
 "metadata": {
  "kernelspec": {
   "display_name": "Python 3",
   "language": "python",
   "name": "python3"
  },
  "language_info": {
   "codemirror_mode": {
    "name": "ipython",
    "version": 3
   },
   "file_extension": ".py",
   "mimetype": "text/x-python",
   "name": "python",
   "nbconvert_exporter": "python",
   "pygments_lexer": "ipython3",
   "version": "3.7.3"
  }
 },
 "nbformat": 4,
 "nbformat_minor": 4
}
